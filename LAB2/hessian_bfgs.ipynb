{
 "cells": [
  {
   "cell_type": "code",
   "execution_count": 98,
   "id": "362feb9b",
   "metadata": {},
   "outputs": [],
   "source": [
    "import numpy as np\n",
    "\n",
    "\n",
    "# sk - отклонение х по сравнению с предыдущей точкой\n",
    "# yk - отклонение граиента по сравнению с предыдущей точкой\n",
    "def update_hessian(old_hessian, sk, yk):\n",
    "    ro = 1 / (np.dot(yk.T, sk))\n",
    "    I = np.eye(old_hessian.shape[0])\n",
    "\n",
    "    term1 = I - np.dot(ro * sk, yk.T)\n",
    "    term2 = I - np.dot(ro * yk, sk.T)\n",
    "    term3 = np.dot(ro * sk, sk.T)\n",
    "    \n",
    "    new_hessian = np.dot(np.dot(term1, old_hessian), term2) + term3\n",
    "    \n",
    "    \n",
    "    return new_hessian"
   ]
  },
  {
   "cell_type": "code",
   "execution_count": 99,
   "id": "8db44b61",
   "metadata": {
    "scrolled": true
   },
   "outputs": [
    {
     "name": "stdout",
     "output_type": "stream",
     "text": [
      "[[60.03225806 36.03225806 24.03225806]\n",
      " [36.03225806 48.03225806 12.03225806]\n",
      " [24.03225806 12.03225806 36.03225806]]\n"
     ]
    }
   ],
   "source": [
    "# Для проверки взял функцию x1^3+2*x2^3+3*x3^3\n",
    "old_hessian = np.array([\n",
    "    [12, 0, 0], \n",
    "    [0, 24, 0],\n",
    "    [0, 0, 36]])\n",
    "sk = np.array([1, 2, -1])\n",
    "yk = np.array([15, 72, -27])\n",
    "\n",
    "# Update the Hessian\n",
    "new_hessian = update_hessian(old_hessian, sk, yk)\n",
    "\n",
    "# Print the updated Hessian\n",
    "print(new_hessian)"
   ]
  },
  {
   "cell_type": "code",
   "execution_count": 100,
   "id": "8c3ea35a",
   "metadata": {},
   "outputs": [
    {
     "name": "stdout",
     "output_type": "stream",
     "text": [
      "[[108.16129032 108.16129032 120.16129032]\n",
      " [108.16129032 144.16129032 132.16129032]\n",
      " [120.16129032 132.16129032 180.16129032]]\n"
     ]
    }
   ],
   "source": [
    "# Update the Hessian\n",
    "new_hessian = update_hessian(new_hessian, sk, yk)\n",
    "\n",
    "# Print the updated Hessian\n",
    "print(new_hessian)"
   ]
  },
  {
   "cell_type": "code",
   "execution_count": 101,
   "id": "21ac0107",
   "metadata": {},
   "outputs": [
    {
     "name": "stdout",
     "output_type": "stream",
     "text": [
      "[[588.67741935 540.67741935 504.67741935]\n",
      " [540.67741935 528.67741935 468.67741935]\n",
      " [504.67741935 468.67741935 468.67741935]]\n"
     ]
    }
   ],
   "source": [
    "# Update the Hessian\n",
    "new_hessian = update_hessian(new_hessian, sk, yk)\n",
    "\n",
    "# Print the updated Hessian\n",
    "print(new_hessian)"
   ]
  },
  {
   "cell_type": "code",
   "execution_count": 102,
   "id": "44d7af1b",
   "metadata": {},
   "outputs": [],
   "source": [
    "# На первом шаге вообще должен получаться такой Гессиан, если решать аналитически:\n",
    "# [18, 0, 0]\n",
    "# [0, 48, 0]\n",
    "# [0, 0, 18]\n",
    "\n",
    "# Функция x1^3+2*x2^3+3*x3^3\n",
    "# x1 = [2, 2, 2]\n",
    "# x2 = [3, 4, 1]\n",
    "\n",
    "# grad(f(x)) = (3x1^2, 6x2^2, 9x3^2)"
   ]
  }
 ],
 "metadata": {
  "kernelspec": {
   "display_name": "Python 3 (ipykernel)",
   "language": "python",
   "name": "python3"
  },
  "language_info": {
   "codemirror_mode": {
    "name": "ipython",
    "version": 3
   },
   "file_extension": ".py",
   "mimetype": "text/x-python",
   "name": "python",
   "nbconvert_exporter": "python",
   "pygments_lexer": "ipython3",
   "version": "3.11.4"
  }
 },
 "nbformat": 4,
 "nbformat_minor": 5
}
