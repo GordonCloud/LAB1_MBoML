{
 "cells": [
  {
   "cell_type": "code",
   "execution_count": 2,
   "metadata": {},
   "outputs": [],
   "source": [
    "import numpy as np\n",
    "\n",
    "# r - количество желаемых сингулярных значений\n",
    "# q - количество итераций для ортоганализации (больше - улучшает оценку)\n",
    "# p - сколько столбцов добавлять в матрицу P (больше - улучшает оценку)\n",
    "def rsvd(X, r, q, p):\n",
    "    # Step 1: Sample column space of X with P matrix\n",
    "    ny = X.shape[1]\n",
    "    P = np.random.randn(ny, r+p)\n",
    "    Z = X @ P\n",
    "    for k in range(q):\n",
    "        Z = X @ (X.T @ Z) # Это делается для улучшения ортогональности матрицы\n",
    "    Q, R = np.linalg.qr(Z)\n",
    "    \n",
    "    # В первом шаге мы получаем ортогональную матрицу Q, которая является базисом\n",
    "    # (пространством столбцов) сэмплированного подпространства матрицы X (пространства меньшей размерности)\n",
    "\n",
    "    # Step 2: Compute SVD on projected Y = Q.T @ X\n",
    "    Y = Q.T @ X\n",
    "    UY, S, Vt = np.linalg.svd(Y, full_matrices=False)\n",
    "    U = Q @ UY\n",
    "\n",
    "    return U, S, Vt.T\n",
    "\n",
    "# Пример использования\n",
    "X = np.array([[1, 2, 3], [4, 5, 6], [7, 8, 9]])\n",
    "r = 4\n",
    "q = 3\n",
    "p = 4\n",
    "\n",
    "U, S, Vt = rsvd(X, r, q, p)"
   ]
  },
  {
   "cell_type": "code",
   "execution_count": 3,
   "metadata": {
    "scrolled": true
   },
   "outputs": [
    {
     "data": {
      "text/plain": [
       "array([[ 35., 170.,  75.,  90., 100., 100.],\n",
       "       [ 30., 180.,  80.,  89.,   0., 100.],\n",
       "       [ 40., 165.,  75.,  91., 100., 100.],\n",
       "       ...,\n",
       "       [ 40., 155.,  50.,  68., 100.,   0.],\n",
       "       [ 25., 175.,  60.,  72., 100., 100.],\n",
       "       [ 50., 160.,  70.,  90., 100., 100.]])"
      ]
     },
     "execution_count": 3,
     "metadata": {},
     "output_type": "execute_result"
    }
   ],
   "source": [
    "import pandas as pd\n",
    "\n",
    "data = pd.read_csv('C:/Storage/Magistracy/Labs_MBoML/repo/test/smoking_driking_dataset_Ver01.csv')\n",
    "data = data[['age', 'height', 'weight', 'waistline', 'sight_left', 'sight_right']]\n",
    "cols_to_int = ['waistline', 'sight_left', 'sight_right']\n",
    "\n",
    "for colname in cols_to_int: # Предупреждаю, на полном датасете это долго\n",
    "    for index, row in data.iterrows():\n",
    "        data.at[index, colname] = int(data.at[index, colname])\n",
    "        if colname == 'sight_left' or colname == 'sight_right':\n",
    "            data.at[index, colname] = data.at[index, colname] * 100\n",
    "        \n",
    "    \n",
    "    \n",
    "data = data.to_numpy()\n",
    "data"
   ]
  },
  {
   "cell_type": "code",
   "execution_count": 12,
   "metadata": {},
   "outputs": [
    {
     "data": {
      "text/plain": [
       "array([[-0.88951382,  0.83587354,  0.93620986,  0.74626289,  0.62560137,\n",
       "         0.62917922],\n",
       "       [-1.24209002,  1.91311698,  1.33575488,  0.66186101, -0.80346775,\n",
       "         0.62917922],\n",
       "       [-0.53693763,  0.29725182,  0.93620986,  0.83066477,  0.62560137,\n",
       "         0.62917922],\n",
       "       ...,\n",
       "       [-0.53693763, -0.77999162, -1.0615152 , -1.1105784 ,  0.62560137,\n",
       "        -0.80357947],\n",
       "       [-1.59466621,  1.37449526, -0.26242517, -0.77297089,  0.62560137,\n",
       "         0.62917922],\n",
       "       [ 0.16821475, -0.2413699 ,  0.53666485,  0.74626289,  0.62560137,\n",
       "         0.62917922]])"
      ]
     },
     "execution_count": 12,
     "metadata": {},
     "output_type": "execute_result"
    }
   ],
   "source": [
    "X = data\n",
    "\n",
    "# Вычисление среднего значения каждого столбца\n",
    "mean = np.mean(X, axis=0)\n",
    "\n",
    "# Вычисление стандартного отклонения каждого столбца\n",
    "std = np.std(X, axis=0)\n",
    "\n",
    "# Стандартизация матрицы\n",
    "X_normalized = (X - mean) / std\n",
    "\n",
    "X_normalized"
   ]
  },
  {
   "cell_type": "code",
   "execution_count": 16,
   "metadata": {},
   "outputs": [
    {
     "name": "stdout",
     "output_type": "stream",
     "text": [
      "Оценка отклонения нормы Фробениуса): 20.065110056110825\n"
     ]
    },
    {
     "data": {
      "text/plain": [
       "array([6890.327908  , 2520.78559519, 1792.47260899,  175.32829601,\n",
       "        150.22258979,   36.36537409])"
      ]
     },
     "execution_count": 16,
     "metadata": {},
     "output_type": "execute_result"
    }
   ],
   "source": [
    "import numpy as np\n",
    "from numpy.linalg import norm\n",
    "from scipy.linalg import svd\n",
    "\n",
    "# Исходная матрица\n",
    "X = data\n",
    "\n",
    "# Используем Randomized SVD\n",
    "r = 5\n",
    "U, S, Vt = rsvd(X, r, 10, 20)\n",
    "\n",
    "# Реконструируем матрицу на основе сингулярного разложения\n",
    "X_reconstructed = U @ np.diag(S) @ Vt\n",
    "\n",
    "# Оценка точности алгоритма\n",
    "error = norm(X, 'fro') - norm(X_reconstructed, 'fro') # норма Фробениуса (Евклидова норма)\n",
    "\n",
    "print(f\"Оценка отклонения нормы Фробениуса): {error}\")\n",
    "S"
   ]
  },
  {
   "cell_type": "code",
   "execution_count": 17,
   "metadata": {},
   "outputs": [
    {
     "data": {
      "text/plain": [
       "array([6890.327908  , 2520.78559519, 1792.47260899,  175.32829601,\n",
       "        150.22258979,   36.36537409])"
      ]
     },
     "execution_count": 17,
     "metadata": {},
     "output_type": "execute_result"
    }
   ],
   "source": [
    "S"
   ]
  },
  {
   "cell_type": "code",
   "execution_count": 18,
   "metadata": {},
   "outputs": [
    {
     "data": {
      "text/plain": [
       "array([6890.327908  , 2520.78559519, 1792.47260906,  468.48918726,\n",
       "        344.75744077,  141.17520148])"
      ]
     },
     "execution_count": 18,
     "metadata": {},
     "output_type": "execute_result"
    }
   ],
   "source": [
    "data = data[:1000]\n",
    "U, S, Vt = np.linalg.svd(data)\n",
    "S"
   ]
  },
  {
   "cell_type": "code",
   "execution_count": 19,
   "metadata": {},
   "outputs": [
    {
     "data": {
      "text/plain": [
       "array([[  71.64303493,  -40.21746766,    0.75758275,  173.57201692,\n",
       "        -139.14381125,   87.38796337],\n",
       "       [  56.01061889,  -36.10595916,    5.28372565,  198.77229083,\n",
       "         -43.91497047,  105.41268814],\n",
       "       [  78.15304225,  -43.17483112,    3.63866892,  177.66958951,\n",
       "        -133.3620936 ,   72.96755825],\n",
       "       ...,\n",
       "       [  73.19416236,  -42.99677178,    8.60531932,  167.48326367,\n",
       "        -135.32811205,   80.74649872],\n",
       "       [  74.2500146 ,  -42.58603788,    8.96303795,  174.36181104,\n",
       "        -135.24727456,   79.23397909],\n",
       "       [ -22.35387724,    0.4282998 ,    7.19453929,  155.48707546,\n",
       "         -39.67232618,   49.9344777 ]])"
      ]
     },
     "execution_count": 19,
     "metadata": {},
     "output_type": "execute_result"
    }
   ],
   "source": [
    "X_reconstructed"
   ]
  },
  {
   "cell_type": "code",
   "execution_count": null,
   "metadata": {},
   "outputs": [],
   "source": []
  }
 ],
 "metadata": {
  "kernelspec": {
   "display_name": "Python 3 (ipykernel)",
   "language": "python",
   "name": "python3"
  },
  "language_info": {
   "codemirror_mode": {
    "name": "ipython",
    "version": 3
   },
   "file_extension": ".py",
   "mimetype": "text/x-python",
   "name": "python",
   "nbconvert_exporter": "python",
   "pygments_lexer": "ipython3",
   "version": "3.11.4"
  }
 },
 "nbformat": 4,
 "nbformat_minor": 2
}
